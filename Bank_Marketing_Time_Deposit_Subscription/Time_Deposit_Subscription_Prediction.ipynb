{
 "cells": [
  {
   "cell_type": "markdown",
   "metadata": {},
   "source": [
    "# Bank Marketing : 정기 예금 가입 예측 모델 개발"
   ]
  },
  {
   "cell_type": "markdown",
   "metadata": {},
   "source": [
    "[목차]\n",
    "\n",
    "1. 개요\n",
    "    - 배경\n",
    "    - 분석 목적\n",
    "    - 분석 목표\n",
    "    - 데이터 설명\n",
    "    - 라이브러리 호출\n",
    "\n",
    "2. EDA\n",
    "    - 기술통계분석 및 데이터 확인\n",
    "    - 상관관계 확인\n",
    "    - 시계열분석\n",
    "    - 변수별 분석\n",
    "    \n",
    "3. Feature Engineering    \n",
    "    - 결측값 처리\n",
    "    - 중복값 처리\n",
    "    - Feature 생성 및 선별\n",
    "    - 이상치 처리\n",
    "    - 표준화\n",
    "    \n",
    "3. 예측 모델 개발\n",
    "    - 다중 선형 회귀\n",
    "    - 다중 선형 회귀(Lasso, Ridge)\n",
    "    - 다항회귀(Lasso)\n",
    "    - 다항회귀(Ridge)\n",
    "    - 랜덤포레스트\n",
    "    - XGboost\n",
    "5. 최종 모델 선택\n",
    "    - 결과 비교\n",
    "    - Test 데이터 예측 진행"
   ]
  },
  {
   "cell_type": "markdown",
   "metadata": {},
   "source": [
    "---\n",
    "---"
   ]
  },
  {
   "cell_type": "markdown",
   "metadata": {},
   "source": [
    "## 개요"
   ]
  },
  {
   "cell_type": "markdown",
   "metadata": {},
   "source": [
    "### 1) 배경\n",
    "- d\n",
    "\n",
    "### 2) 분석 목적\n",
    "- d\n",
    "\n",
    "### 3) 분석 목표\n",
    "- d\n",
    "\n",
    "- d\n",
    "\n",
    "### 4) 데이터 설명\n",
    "\n",
    "| 컬럼명       | 데이터 타입 | 설명                                           |\n",
    "|-------------|------------|----------------------------------------------|\n",
    "| datetime    | datetime   | 자전거 대여 기록의 날짜 및 시간. 예시: 2011-01-01 00:00:00 |\n",
    "| season      | int        | 계절 (1: 봄, 2: 여름, 3: 가을, 4: 겨울)      |\n",
    "| holiday     | int        | 공휴일 여부 (0: 평일, 1: 공휴일)              |\n",
    "| workingday  | int        | 근무일 여부 (0: 주말/공휴일, 1: 근무일)       |\n",
    "| weather     | int        | 날씨 상황 (1: 맑음, 2: 구름낌/안개, 3: 약간의 비/눈, 4: 폭우/폭설) |\n",
    "| temp        | float      | 실측 온도 (섭씨)                              |\n",
    "| atemp       | float      | 체감 온도 (섭씨)                              |\n",
    "| humidity    | int        | 습도 (%)                                      |\n",
    "| windspeed   | float      | 풍속 (m/s)                                   |\n",
    "| casual      | int        | 등록되지 않은 사용자의 대여 수                |\n",
    "| registered  | int        | 등록된 사용자의 대여 수                      |\n",
    "| count       | int        | 총 대여 수 (종속 변수)                        |"
   ]
  },
  {
   "cell_type": "markdown",
   "metadata": {},
   "source": [
    "### 5) 라이브러리 호출 및 데이터 프레임 생성"
   ]
  },
  {
   "cell_type": "code",
   "execution_count": 1,
   "metadata": {},
   "outputs": [],
   "source": [
    "from sklearn.linear_model import LinearRegression\n",
    "from sklearn.model_selection import cross_val_score, train_test_split\n",
    "from sklearn.metrics import mean_squared_error\n",
    "from sklearn.preprocessing import PolynomialFeatures\n",
    "from sklearn.preprocessing import StandardScaler\n",
    "from sklearn.model_selection import GridSearchCV\n",
    "from sklearn.preprocessing import OneHotEncoder\n",
    "\n",
    "\n",
    "from math import sqrt\n",
    "\n",
    "import numpy as np\n",
    "import pandas as pd\n",
    "import matplotlib.pyplot as plt\n",
    "import seaborn as sns\n",
    "\n",
    "# ▶ Warnings 제거\n",
    "import warnings\n",
    "warnings.filterwarnings('ignore')\n",
    "\n",
    "# ▶ 한글 폰트 다운로드\n",
    "# !sudo apt-get install -y fonts-nanum\n",
    "# !sudo fc-cache -fv\n",
    "# !rm ~/.cache/matplotlib -rf"
   ]
  },
  {
   "cell_type": "code",
   "execution_count": 2,
   "metadata": {},
   "outputs": [
    {
     "data": {
      "text/html": [
       "<div>\n",
       "<style scoped>\n",
       "    .dataframe tbody tr th:only-of-type {\n",
       "        vertical-align: middle;\n",
       "    }\n",
       "\n",
       "    .dataframe tbody tr th {\n",
       "        vertical-align: top;\n",
       "    }\n",
       "\n",
       "    .dataframe thead th {\n",
       "        text-align: right;\n",
       "    }\n",
       "</style>\n",
       "<table border=\"1\" class=\"dataframe\">\n",
       "  <thead>\n",
       "    <tr style=\"text-align: right;\">\n",
       "      <th></th>\n",
       "      <th>age;\"job\";\"marital\";\"education\";\"default\";\"housing\";\"loan\";\"contact\";\"month\";\"day_of_week\";\"duration\";\"campaign\";\"pdays\";\"previous\";\"poutcome\";\"emp.var.rate\";\"cons.price.idx\";\"cons.conf.idx\";\"euribor3m\";\"nr.employed\";\"y\"</th>\n",
       "    </tr>\n",
       "  </thead>\n",
       "  <tbody>\n",
       "    <tr>\n",
       "      <th>0</th>\n",
       "      <td>56;\"housemaid\";\"married\";\"basic.4y\";\"no\";\"no\";...</td>\n",
       "    </tr>\n",
       "    <tr>\n",
       "      <th>1</th>\n",
       "      <td>57;\"services\";\"married\";\"high.school\";\"unknown...</td>\n",
       "    </tr>\n",
       "    <tr>\n",
       "      <th>2</th>\n",
       "      <td>37;\"services\";\"married\";\"high.school\";\"no\";\"ye...</td>\n",
       "    </tr>\n",
       "    <tr>\n",
       "      <th>3</th>\n",
       "      <td>40;\"admin.\";\"married\";\"basic.6y\";\"no\";\"no\";\"no...</td>\n",
       "    </tr>\n",
       "    <tr>\n",
       "      <th>4</th>\n",
       "      <td>56;\"services\";\"married\";\"high.school\";\"no\";\"no...</td>\n",
       "    </tr>\n",
       "    <tr>\n",
       "      <th>...</th>\n",
       "      <td>...</td>\n",
       "    </tr>\n",
       "    <tr>\n",
       "      <th>41183</th>\n",
       "      <td>73;\"retired\";\"married\";\"professional.course\";\"...</td>\n",
       "    </tr>\n",
       "    <tr>\n",
       "      <th>41184</th>\n",
       "      <td>46;\"blue-collar\";\"married\";\"professional.cours...</td>\n",
       "    </tr>\n",
       "    <tr>\n",
       "      <th>41185</th>\n",
       "      <td>56;\"retired\";\"married\";\"university.degree\";\"no...</td>\n",
       "    </tr>\n",
       "    <tr>\n",
       "      <th>41186</th>\n",
       "      <td>44;\"technician\";\"married\";\"professional.course...</td>\n",
       "    </tr>\n",
       "    <tr>\n",
       "      <th>41187</th>\n",
       "      <td>74;\"retired\";\"married\";\"professional.course\";\"...</td>\n",
       "    </tr>\n",
       "  </tbody>\n",
       "</table>\n",
       "<p>41188 rows × 1 columns</p>\n",
       "</div>"
      ],
      "text/plain": [
       "      age;\"job\";\"marital\";\"education\";\"default\";\"housing\";\"loan\";\"contact\";\"month\";\"day_of_week\";\"duration\";\"campaign\";\"pdays\";\"previous\";\"poutcome\";\"emp.var.rate\";\"cons.price.idx\";\"cons.conf.idx\";\"euribor3m\";\"nr.employed\";\"y\"\n",
       "0      56;\"housemaid\";\"married\";\"basic.4y\";\"no\";\"no\";...                                                                                                                                                                          \n",
       "1      57;\"services\";\"married\";\"high.school\";\"unknown...                                                                                                                                                                          \n",
       "2      37;\"services\";\"married\";\"high.school\";\"no\";\"ye...                                                                                                                                                                          \n",
       "3      40;\"admin.\";\"married\";\"basic.6y\";\"no\";\"no\";\"no...                                                                                                                                                                          \n",
       "4      56;\"services\";\"married\";\"high.school\";\"no\";\"no...                                                                                                                                                                          \n",
       "...                                                  ...                                                                                                                                                                          \n",
       "41183  73;\"retired\";\"married\";\"professional.course\";\"...                                                                                                                                                                          \n",
       "41184  46;\"blue-collar\";\"married\";\"professional.cours...                                                                                                                                                                          \n",
       "41185  56;\"retired\";\"married\";\"university.degree\";\"no...                                                                                                                                                                          \n",
       "41186  44;\"technician\";\"married\";\"professional.course...                                                                                                                                                                          \n",
       "41187  74;\"retired\";\"married\";\"professional.course\";\"...                                                                                                                                                                          \n",
       "\n",
       "[41188 rows x 1 columns]"
      ]
     },
     "execution_count": 2,
     "metadata": {},
     "output_type": "execute_result"
    }
   ],
   "source": [
    "# train 데이터 셋 호출\n",
    "bank_df = pd.read_csv('./data/bank-additional-full.csv')\n",
    "bank_df"
   ]
  }
 ],
 "metadata": {
  "kernelspec": {
   "display_name": "Python 3",
   "language": "python",
   "name": "python3"
  },
  "language_info": {
   "codemirror_mode": {
    "name": "ipython",
    "version": 3
   },
   "file_extension": ".py",
   "mimetype": "text/x-python",
   "name": "python",
   "nbconvert_exporter": "python",
   "pygments_lexer": "ipython3",
   "version": "3.10.9"
  }
 },
 "nbformat": 4,
 "nbformat_minor": 2
}
